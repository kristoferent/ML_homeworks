{
 "cells": [
  {
   "cell_type": "markdown",
   "metadata": {},
   "source": [
    "### Лабораторная работа 2: основные понятия"
   ]
  },
  {
   "cell_type": "markdown",
   "metadata": {},
   "source": [
    "В сегодняшней лабораторной будем работать с данными о проданных на аукционе автомобилях (`Carvana Car Prediction`). Целевым признаком здесь является наличие скрытых продавцом существенных недостатков. \n",
    "\n",
    "Carvana &mdash; компания-перекупщик автомобилей, соответственно, ее задача &mdash; не допустить скупку автомобилей со скрытыми недостатками, так как их впоследствии тяжелее продавать."
   ]
  },
  {
   "cell_type": "markdown",
   "metadata": {},
   "source": [
    "## 1"
   ]
  },
  {
   "cell_type": "markdown",
   "metadata": {},
   "source": [
    "Загрузите данные о проданных на аукционе автомобилях. Посмотрите на \"сырые\" данные. \n",
    "\n",
    "Просмотрите файл `DataDictionary-ru.txt` и поймите, что означают столбцы матрицы. Выведите статистику по столбцам.\n"
   ]
  },
  {
   "cell_type": "code",
   "execution_count": 1,
   "metadata": {},
   "outputs": [],
   "source": [
    "import pandas as pd"
   ]
  },
  {
   "cell_type": "code",
   "execution_count": 2,
   "metadata": {},
   "outputs": [
    {
     "data": {
      "text/html": [
       "<div>\n",
       "<style scoped>\n",
       "    .dataframe tbody tr th:only-of-type {\n",
       "        vertical-align: middle;\n",
       "    }\n",
       "\n",
       "    .dataframe tbody tr th {\n",
       "        vertical-align: top;\n",
       "    }\n",
       "\n",
       "    .dataframe thead th {\n",
       "        text-align: right;\n",
       "    }\n",
       "</style>\n",
       "<table border=\"1\" class=\"dataframe\">\n",
       "  <thead>\n",
       "    <tr style=\"text-align: right;\">\n",
       "      <th></th>\n",
       "      <th>RefId</th>\n",
       "      <th>IsBadBuy</th>\n",
       "      <th>PurchDate</th>\n",
       "      <th>Auction</th>\n",
       "      <th>VehYear</th>\n",
       "      <th>VehicleAge</th>\n",
       "      <th>Make</th>\n",
       "      <th>Model</th>\n",
       "      <th>Trim</th>\n",
       "      <th>SubModel</th>\n",
       "      <th>...</th>\n",
       "      <th>MMRCurrentRetailAveragePrice</th>\n",
       "      <th>MMRCurrentRetailCleanPrice</th>\n",
       "      <th>PRIMEUNIT</th>\n",
       "      <th>AUCGUART</th>\n",
       "      <th>BYRNO</th>\n",
       "      <th>VNZIP1</th>\n",
       "      <th>VNST</th>\n",
       "      <th>VehBCost</th>\n",
       "      <th>IsOnlineSale</th>\n",
       "      <th>WarrantyCost</th>\n",
       "    </tr>\n",
       "  </thead>\n",
       "  <tbody>\n",
       "    <tr>\n",
       "      <th>0</th>\n",
       "      <td>1</td>\n",
       "      <td>0</td>\n",
       "      <td>12/7/2009</td>\n",
       "      <td>ADESA</td>\n",
       "      <td>2006</td>\n",
       "      <td>3</td>\n",
       "      <td>MAZDA</td>\n",
       "      <td>MAZDA3</td>\n",
       "      <td>i</td>\n",
       "      <td>4D SEDAN I</td>\n",
       "      <td>...</td>\n",
       "      <td>11597.0</td>\n",
       "      <td>12409.0</td>\n",
       "      <td>NaN</td>\n",
       "      <td>NaN</td>\n",
       "      <td>21973</td>\n",
       "      <td>33619</td>\n",
       "      <td>FL</td>\n",
       "      <td>7100.0</td>\n",
       "      <td>0</td>\n",
       "      <td>1113</td>\n",
       "    </tr>\n",
       "    <tr>\n",
       "      <th>1</th>\n",
       "      <td>2</td>\n",
       "      <td>0</td>\n",
       "      <td>12/7/2009</td>\n",
       "      <td>ADESA</td>\n",
       "      <td>2004</td>\n",
       "      <td>5</td>\n",
       "      <td>DODGE</td>\n",
       "      <td>1500 RAM PICKUP 2WD</td>\n",
       "      <td>ST</td>\n",
       "      <td>QUAD CAB 4.7L SLT</td>\n",
       "      <td>...</td>\n",
       "      <td>11374.0</td>\n",
       "      <td>12791.0</td>\n",
       "      <td>NaN</td>\n",
       "      <td>NaN</td>\n",
       "      <td>19638</td>\n",
       "      <td>33619</td>\n",
       "      <td>FL</td>\n",
       "      <td>7600.0</td>\n",
       "      <td>0</td>\n",
       "      <td>1053</td>\n",
       "    </tr>\n",
       "    <tr>\n",
       "      <th>2</th>\n",
       "      <td>3</td>\n",
       "      <td>0</td>\n",
       "      <td>12/7/2009</td>\n",
       "      <td>ADESA</td>\n",
       "      <td>2005</td>\n",
       "      <td>4</td>\n",
       "      <td>DODGE</td>\n",
       "      <td>STRATUS V6</td>\n",
       "      <td>SXT</td>\n",
       "      <td>4D SEDAN SXT FFV</td>\n",
       "      <td>...</td>\n",
       "      <td>7146.0</td>\n",
       "      <td>8702.0</td>\n",
       "      <td>NaN</td>\n",
       "      <td>NaN</td>\n",
       "      <td>19638</td>\n",
       "      <td>33619</td>\n",
       "      <td>FL</td>\n",
       "      <td>4900.0</td>\n",
       "      <td>0</td>\n",
       "      <td>1389</td>\n",
       "    </tr>\n",
       "    <tr>\n",
       "      <th>3</th>\n",
       "      <td>4</td>\n",
       "      <td>0</td>\n",
       "      <td>12/7/2009</td>\n",
       "      <td>ADESA</td>\n",
       "      <td>2004</td>\n",
       "      <td>5</td>\n",
       "      <td>DODGE</td>\n",
       "      <td>NEON</td>\n",
       "      <td>SXT</td>\n",
       "      <td>4D SEDAN</td>\n",
       "      <td>...</td>\n",
       "      <td>4375.0</td>\n",
       "      <td>5518.0</td>\n",
       "      <td>NaN</td>\n",
       "      <td>NaN</td>\n",
       "      <td>19638</td>\n",
       "      <td>33619</td>\n",
       "      <td>FL</td>\n",
       "      <td>4100.0</td>\n",
       "      <td>0</td>\n",
       "      <td>630</td>\n",
       "    </tr>\n",
       "    <tr>\n",
       "      <th>4</th>\n",
       "      <td>5</td>\n",
       "      <td>0</td>\n",
       "      <td>12/7/2009</td>\n",
       "      <td>ADESA</td>\n",
       "      <td>2005</td>\n",
       "      <td>4</td>\n",
       "      <td>FORD</td>\n",
       "      <td>FOCUS</td>\n",
       "      <td>ZX3</td>\n",
       "      <td>2D COUPE ZX3</td>\n",
       "      <td>...</td>\n",
       "      <td>6739.0</td>\n",
       "      <td>7911.0</td>\n",
       "      <td>NaN</td>\n",
       "      <td>NaN</td>\n",
       "      <td>19638</td>\n",
       "      <td>33619</td>\n",
       "      <td>FL</td>\n",
       "      <td>4000.0</td>\n",
       "      <td>0</td>\n",
       "      <td>1020</td>\n",
       "    </tr>\n",
       "  </tbody>\n",
       "</table>\n",
       "<p>5 rows × 34 columns</p>\n",
       "</div>"
      ],
      "text/plain": [
       "   RefId  IsBadBuy  PurchDate Auction  VehYear  VehicleAge   Make  \\\n",
       "0      1         0  12/7/2009   ADESA     2006           3  MAZDA   \n",
       "1      2         0  12/7/2009   ADESA     2004           5  DODGE   \n",
       "2      3         0  12/7/2009   ADESA     2005           4  DODGE   \n",
       "3      4         0  12/7/2009   ADESA     2004           5  DODGE   \n",
       "4      5         0  12/7/2009   ADESA     2005           4   FORD   \n",
       "\n",
       "                 Model Trim           SubModel  ...  \\\n",
       "0               MAZDA3    i         4D SEDAN I  ...   \n",
       "1  1500 RAM PICKUP 2WD   ST  QUAD CAB 4.7L SLT  ...   \n",
       "2           STRATUS V6  SXT   4D SEDAN SXT FFV  ...   \n",
       "3                 NEON  SXT           4D SEDAN  ...   \n",
       "4                FOCUS  ZX3       2D COUPE ZX3  ...   \n",
       "\n",
       "  MMRCurrentRetailAveragePrice MMRCurrentRetailCleanPrice  PRIMEUNIT AUCGUART  \\\n",
       "0                      11597.0                    12409.0        NaN      NaN   \n",
       "1                      11374.0                    12791.0        NaN      NaN   \n",
       "2                       7146.0                     8702.0        NaN      NaN   \n",
       "3                       4375.0                     5518.0        NaN      NaN   \n",
       "4                       6739.0                     7911.0        NaN      NaN   \n",
       "\n",
       "   BYRNO VNZIP1 VNST VehBCost  IsOnlineSale  WarrantyCost  \n",
       "0  21973  33619   FL   7100.0             0          1113  \n",
       "1  19638  33619   FL   7600.0             0          1053  \n",
       "2  19638  33619   FL   4900.0             0          1389  \n",
       "3  19638  33619   FL   4100.0             0           630  \n",
       "4  19638  33619   FL   4000.0             0          1020  \n",
       "\n",
       "[5 rows x 34 columns]"
      ]
     },
     "execution_count": 2,
     "metadata": {},
     "output_type": "execute_result"
    }
   ],
   "source": [
    "df = pd.read_csv('data.csv')\n",
    "df.head()"
   ]
  },
  {
   "cell_type": "markdown",
   "metadata": {},
   "source": [
    "## 2\n",
    "\n",
    "Постройте график рассеяния с пробегом в качестве оси абсцисс и ценой `MMRCurrentRetailAveragePrice` в качестве оси ординат. Автомобили без недостатков отметьте зеленым цветом, со скрытыми недостатками — красным."
   ]
  },
  {
   "cell_type": "code",
   "execution_count": 3,
   "metadata": {},
   "outputs": [],
   "source": [
    "%matplotlib inline\n",
    "import matplotlib.pyplot as plt"
   ]
  },
  {
   "cell_type": "code",
   "execution_count": 4,
   "metadata": {},
   "outputs": [
    {
     "data": {
      "text/plain": [
       "<matplotlib.collections.PathCollection at 0x26cf8ad4430>"
      ]
     },
     "execution_count": 4,
     "metadata": {},
     "output_type": "execute_result"
    },
    {
     "data": {
      "image/png": "[encoded data removed]",
      "text/plain": [
       "<Figure size 432x288 with 1 Axes>"
      ]
     },
     "metadata": {
      "needs_background": "light"
     },
     "output_type": "display_data"
    }
   ],
   "source": [
    "plt.scatter(df[df['IsBadBuy']==0]['VehOdo'], df[df['IsBadBuy']==0]['MMRCurrentRetailAveragePrice'], c='green')\n",
    "plt.scatter(df[df['IsBadBuy']==1]['VehOdo'], df[df['IsBadBuy']==1]['MMRCurrentRetailAveragePrice'], c='red')"
   ]
  },
  {
   "cell_type": "markdown",
   "metadata": {},
   "source": [
    "# Регрессия"
   ]
  },
  {
   "cell_type": "markdown",
   "metadata": {},
   "source": [
    "## 3a\n",
    "\n",
    "Импортируйте из библиотеки `sklearn` все модели машинного обучения:\n",
    "\n",
    "`from sklearn import *`\n",
    "\n",
    "Трактуя задачу о предсказании наличия недостатков как задачу регрессии, натренируйте линейную модель [`LinearRegression`](https://scikit-learn.org/stable/modules/generated/sklearn.linear_model.LinearRegression.html) на каком-нибудь подмножестве признаков (например, тех же `VehOdo` и `MMRCurrentRetailAveragePrice`). \n",
    "\n",
    "С какой проблемой вы столкнулись? Какие способы ее решения вы можете предложить?\n",
    "\n",
    "*Функции, которые могут пригодиться при решении: `.fit(), .loc[], pd.notnull()`*\n",
    "\n",
    "*Создание модели:* `model1 = linear_model.LinearRegression()`\n",
    "\n",
    "*Тренировка:*\n",
    "`model1.fit(x, y)`\n",
    "\n"
   ]
  },
  {
   "cell_type": "code",
   "execution_count": 5,
   "metadata": {},
   "outputs": [],
   "source": [
    "from sklearn.model_selection import train_test_split\n",
    "df.dropna(inplace=True)\n",
    "x = df[['VehOdo', 'MMRCurrentRetailAveragePrice']]\n",
    "y = df['IsBadBuy']\n",
    "\n",
    "x_train, x_test, y_train, y_test = train_test_split(x, y, test_size=0.3, random_state=420)"
   ]
  },
  {
   "cell_type": "code",
   "execution_count": 6,
   "metadata": {},
   "outputs": [
    {
     "data": {
      "text/plain": [
       "LinearRegression(normalize=True)"
      ]
     },
     "execution_count": 6,
     "metadata": {},
     "output_type": "execute_result"
    }
   ],
   "source": [
    "from sklearn import *\n",
    "model1 = linear_model.LinearRegression(fit_intercept=True, normalize=True)\n",
    "model1.fit(x_train, y_train)"
   ]
  },
  {
   "cell_type": "markdown",
   "metadata": {},
   "source": [
    "## 3b\n",
    "\n",
    "Выполните предсказание для всех объектов обучающей выборки и присвойте результат переменной prediction\n",
    "\n",
    "*Функции, которые могут пригодиться при решении: `model.predict()`*"
   ]
  },
  {
   "cell_type": "code",
   "execution_count": 7,
   "metadata": {},
   "outputs": [
    {
     "name": "stdout",
     "output_type": "stream",
     "text": [
      "[ 0.03424366  0.03641261  0.05842461  0.0521975   0.05806976  0.01594316\n",
      "  0.03218522  0.02540592  0.048175    0.05691888  0.04552975  0.04384191\n",
      "  0.03347267  0.07621572  0.04415391  0.04817364  0.04972257  0.02911132\n",
      "  0.03823289  0.03140635  0.05438203  0.05525734  0.04239551  0.05965473\n",
      "  0.03772516  0.03260833  0.03640648  0.02560894  0.02962438  0.04524626\n",
      "  0.05926161  0.05361389  0.05359989  0.03817447  0.03126894  0.05387934\n",
      "  0.05411718  0.05280084  0.04438329  0.02907024  0.02554788  0.03720091\n",
      "  0.02630215  0.04704237  0.04057151  0.06225637  0.02552944  0.05034546\n",
      "  0.03432552  0.0496569   0.05187818  0.02939754  0.02241482  0.05103151\n",
      "  0.05548914  0.02982383  0.0591112   0.06012279  0.02856306  0.05865817\n",
      "  0.05628321  0.02702328  0.04635864  0.03953757  0.05888548  0.04653824\n",
      "  0.04191599  0.03779272  0.05321873  0.03330774  0.0328851   0.05243835\n",
      "  0.04004438  0.05909622  0.04790994  0.03880218  0.06186671  0.04050475\n",
      "  0.05573955  0.02581283  0.04086263  0.05332284  0.03299962  0.04638656\n",
      "  0.03866568  0.02570452  0.03020021  0.03569762  0.04386903  0.04113386\n",
      "  0.02892057  0.03174537  0.05475351  0.05164194  0.02768033  0.04904422\n",
      "  0.06046731  0.05832019  0.01849898  0.04197346  0.02863254  0.04288196\n",
      "  0.05344516  0.02845802  0.03474314  0.02849682  0.01361218  0.0512014\n",
      "  0.02756061  0.03497149  0.0329096   0.05336784  0.0538224   0.00781988\n",
      "  0.03988234  0.05543594  0.02388744  0.05614036  0.03298134  0.03675083\n",
      "  0.03265946  0.0308748   0.03511549  0.05906528  0.02585475  0.03723312\n",
      "  0.05185792  0.03591992  0.04942891  0.04185421  0.0479016   0.04402538\n",
      "  0.04005979  0.03232585  0.05666843  0.04390085  0.03342905  0.03826347\n",
      "  0.03815542  0.02514107  0.04762897  0.04310176  0.05235677  0.05426563\n",
      "  0.04622076  0.05289465  0.04405545  0.0352291   0.06278945  0.04299969\n",
      "  0.04068066  0.03796581  0.02180018  0.04374241  0.0639525   0.03295701\n",
      "  0.04626474  0.04558358  0.04931745  0.04204061  0.05921945  0.05361978\n",
      "  0.05540656  0.03097535  0.04354471  0.03385569  0.03873663  0.01988207\n",
      "  0.04403189  0.03120198  0.04901162  0.04694941  0.05247901  0.03485691\n",
      "  0.03996504  0.04615903  0.05237452  0.05188682  0.06011785  0.03742999\n",
      "  0.03639138  0.04426074  0.02669106  0.04192101  0.06089037  0.02974121\n",
      "  0.03751525  0.03273887  0.05491834  0.05138125  0.03610535  0.0417159\n",
      "  0.03207111  0.05130196  0.04032408  0.04849179  0.04839036  0.03847884\n",
      "  0.04290341  0.04315321  0.05316616  0.0179048   0.04664543  0.03261748\n",
      "  0.04020081  0.0549435   0.06175233  0.04341527  0.04001843  0.0333552\n",
      "  0.05148558  0.05263442  0.05818866  0.02410812  0.05240707  0.04702248\n",
      "  0.03542152  0.03755258  0.03252393  0.05451263  0.05491424  0.05362136\n",
      "  0.04207335  0.04674995  0.03309356  0.03194606  0.03594033  0.02674864\n",
      "  0.04081576  0.04493407  0.0578887   0.03511963  0.04195845  0.0402622\n",
      "  0.05090286  0.04400837  0.0537944   0.0634599   0.04856167  0.05246398\n",
      "  0.04293393  0.04152375  0.03344913  0.04468197  0.04438779  0.04125055\n",
      "  0.03988675  0.03035148  0.03033281  0.02973398  0.06094541  0.04716587\n",
      "  0.0505174   0.03684565  0.0592811   0.02656345  0.03470284  0.05428055\n",
      "  0.03723248  0.02790268  0.06425265  0.04119419  0.05590253  0.02254279\n",
      "  0.04675234  0.05476219  0.03166785  0.04944994  0.03811516  0.03799113\n",
      "  0.0397993   0.03586107  0.02779683  0.0602936   0.03629986  0.02097464\n",
      "  0.05793111  0.03532554  0.05286951  0.03265581  0.05322645  0.05393432\n",
      "  0.02606776  0.04701666  0.04224013  0.0569862   0.05177163  0.01755725\n",
      "  0.03957009  0.05908995  0.02157428  0.02989913  0.02829599  0.05798684\n",
      "  0.04937161  0.03823599  0.05313871  0.05462974  0.03784818  0.03928264\n",
      "  0.04600584  0.0401146   0.05725018  0.04108845  0.03311512  0.04142808\n",
      "  0.04905611  0.05765252  0.04628508  0.0507118   0.07851457  0.034451\n",
      "  0.04842868  0.05811914  0.05295941  0.04942311  0.03416911  0.02446791\n",
      "  0.03287564  0.03750075  0.057921    0.02150977  0.05471031  0.05179088\n",
      "  0.03463973  0.02488377  0.05947253  0.03542414  0.02211463  0.05138111\n",
      "  0.05201025  0.03476637  0.03174525  0.04535434  0.05621825  0.04573587\n",
      "  0.04742098  0.05152069  0.01866413  0.05286783  0.03291731  0.04697431\n",
      "  0.02268452  0.03394091  0.0186683   0.01870787  0.03513056  0.05888903\n",
      "  0.05049132  0.04142796  0.03903537  0.00503885  0.04938239  0.0345661\n",
      "  0.03989061  0.03863056  0.03720203  0.02373368  0.02774504  0.03918038\n",
      "  0.01948053  0.04177963  0.05817083  0.01770267  0.03716204  0.04636502\n",
      "  0.05390312  0.01489686  0.03708257  0.05257065  0.05647879  0.0407722\n",
      "  0.0302288   0.01365414  0.02293638  0.05645529  0.03444006  0.04585554\n",
      "  0.02638741  0.04909774  0.04693529  0.03808534  0.03597592  0.05008844\n",
      "  0.04656032  0.03488387  0.04032222  0.04480106  0.04761312  0.04554466\n",
      "  0.0444465   0.02861779  0.04199379  0.04706903  0.05045606  0.03785609\n",
      "  0.04204841  0.0433961   0.04484925  0.04381731  0.03508434  0.03132894\n",
      "  0.03508744  0.02937001  0.05246933  0.03464492  0.05423417  0.05475686\n",
      "  0.03825302  0.04128275  0.05553162  0.0272482   0.03034203  0.02908252\n",
      "  0.03273266  0.02593584  0.03761206  0.02219692  0.03419728  0.01794746\n",
      "  0.04143973  0.04035025  0.05003878  0.02314331  0.05215428  0.04003332\n",
      "  0.02704135  0.04432022  0.0546478   0.0481366   0.03865284  0.04585742\n",
      "  0.03145373  0.02774062  0.05488393  0.04932655  0.05591412  0.04469244\n",
      "  0.04999519  0.03169813  0.04818883  0.05046844  0.059166    0.04707289\n",
      "  0.05969014  0.04838388  0.03257602  0.02267912  0.02823463  0.02237262\n",
      "  0.02921173  0.03465794  0.04377052  0.03427188  0.04747274  0.04497791\n",
      "  0.04868463  0.0343917   0.04448866  0.05240666  0.03051987  0.0608409\n",
      "  0.03683404  0.02627693  0.03723965  0.0554742   0.02556415  0.01858268\n",
      "  0.02964745  0.04165817  0.0644981   0.0458591   0.04786754  0.05048971\n",
      "  0.04923857  0.04250904  0.04937387  0.04922695  0.02914844  0.03300592\n",
      "  0.05925049  0.02203893  0.0627013   0.05097261  0.0403114   0.04022264\n",
      "  0.04750927  0.05030445  0.05074014  0.05020057  0.03772029  0.03366578\n",
      "  0.0374987   0.04357987  0.02653485  0.04121607  0.04488547  0.04344069\n",
      "  0.05750073  0.05037407  0.04249928  0.04592252  0.03639278  0.05152793\n",
      "  0.04811187  0.05059877  0.05042843  0.02689094  0.04224589  0.05970707\n",
      "  0.03756383  0.03974509  0.03284786  0.04210434  0.04745624  0.03602161\n",
      "  0.05997363  0.03288379  0.0597203   0.02620547  0.028177    0.05999431\n",
      "  0.05205352  0.04508533  0.03347556  0.06300186  0.04152866  0.028665\n",
      "  0.06987807  0.03717292  0.03774002  0.05010369  0.03699897  0.05115014\n",
      "  0.01678387  0.03325975  0.03142925  0.05490588  0.03919529  0.03640097\n",
      "  0.05214879  0.05684729  0.04775742  0.03886467  0.03463498  0.05932105\n",
      "  0.0306636   0.02726447  0.04466371  0.02492827  0.0389561   0.05464021\n",
      "  0.03963756  0.05692786  0.05424734  0.02356689  0.0602461   0.04285416\n",
      "  0.04019086  0.04104076  0.02410195  0.03375869  0.05806472  0.02733609\n",
      "  0.02349988  0.0438632   0.03580525  0.01955562  0.04528268  0.05796436\n",
      "  0.04656552  0.05606748  0.04702886  0.05503152  0.03875671  0.04517533\n",
      "  0.04229948  0.02428426  0.04098219  0.05264595  0.05072756  0.05276698\n",
      "  0.03401673  0.02618376  0.03952707  0.03613508  0.04821237  0.02143829\n",
      "  0.04733347  0.03504706  0.03382046  0.06402747  0.05355241  0.05606076\n",
      "  0.03731613  0.03804292  0.02603633  0.04019734  0.04788053  0.04562833\n",
      "  0.05808264  0.03613107  0.05174193  0.04357642  0.06045927  0.03504731\n",
      "  0.05142324  0.0404666   0.04368382  0.0318886   0.04528801  0.03518239\n",
      "  0.05921294  0.04106486  0.04235832  0.04020502  0.03726822  0.04446309\n",
      "  0.03210699  0.04123563  0.03424421  0.04033783  0.03261851  0.04336498\n",
      "  0.0395602   0.03785457  0.02362812  0.03733692  0.0536413   0.0302147\n",
      "  0.05810763  0.0379105   0.04843829  0.05363205  0.05247745  0.04656743\n",
      "  0.04503669  0.02690234  0.03773344  0.04782715  0.0395986   0.03666698\n",
      "  0.02806337  0.06202078  0.05608494  0.05643959  0.02812325  0.03892391\n",
      "  0.05269782  0.04104069  0.01686408  0.03617595  0.0368485   0.04688916\n",
      "  0.02624819  0.03352164  0.04382617  0.05159316  0.04178423  0.05303886\n",
      "  0.04495121  0.05657014  0.05273884  0.03538436  0.04281281  0.05050757\n",
      "  0.03704795  0.04548419  0.0513607   0.05444768  0.04777515  0.02453561\n",
      "  0.04358159  0.0538139   0.04586801  0.03380254  0.04310281  0.02979608\n",
      "  0.02481952  0.02932911  0.0566708   0.04413801  0.05626431  0.03876722\n",
      "  0.0372732   0.03501687  0.0434104   0.03602483  0.02798317  0.02558721\n",
      "  0.03062702  0.06540202  0.0511355   0.06161111  0.02386971  0.03023439\n",
      "  0.03759872  0.04977108  0.04065631  0.04250622  0.03222134  0.0412979\n",
      "  0.03260305  0.04914936  0.05899932  0.04090861  0.0323357   0.0368244\n",
      "  0.05278339  0.03919448  0.02746416  0.01627475  0.03701674  0.05123928\n",
      "  0.06026457  0.06220586  0.04550911  0.05029421  0.03418531  0.04075022\n",
      "  0.03611361  0.04909523  0.02918299  0.0344285   0.04125628  0.06676938\n",
      "  0.05781543  0.02663598  0.05583845  0.0781463   0.04031328  0.05904762\n",
      "  0.03223959  0.04663798  0.04273895  0.05329397  0.05333181  0.04865207\n",
      "  0.04769532  0.03983824  0.04091501  0.0370117   0.04096196  0.03820328\n",
      "  0.03895751  0.04267958  0.03376259  0.04396966  0.03454789  0.03845927\n",
      "  0.03725468  0.04495493  0.03538969  0.04306529  0.03667991  0.05745514\n",
      "  0.05384723  0.0408813   0.0367019   0.05569371  0.03282299  0.02029411\n",
      "  0.04866423  0.05721786  0.04282879  0.03172243  0.05598138  0.04630867\n",
      "  0.05300883  0.04147405  0.0250107   0.04523349  0.05236041  0.03718987\n",
      "  0.04454976  0.0304929   0.02928902  0.04294958  0.04484466  0.05136679\n",
      "  0.04094016  0.05979297  0.07873299  0.04729796  0.0316583   0.06076229\n",
      "  0.04922793  0.03885175  0.05099958  0.04228178 -0.00042522  0.02991106\n",
      "  0.03285462  0.02798917  0.06265214  0.0358408   0.03562415  0.05397266\n",
      "  0.05908502  0.02196042  0.05032218  0.05870035  0.03413156  0.05884913\n",
      "  0.05346833  0.04075852  0.02923245  0.04947728  0.04277546  0.0435739\n",
      "  0.04539774  0.03211983  0.05355498  0.03121279  0.04648123  0.05354429\n",
      "  0.02543742  0.04597569  0.03570401  0.03715074  0.04537834  0.01933248\n",
      "  0.04699511  0.02973654  0.03944412  0.04557875  0.05812803  0.05730808\n",
      "  0.04178485  0.05889605  0.04751123  0.03558989  0.05745341  0.05220266\n",
      "  0.04927373  0.03500946  0.05987863  0.03561583  0.05971788  0.01864861\n",
      "  0.05527844  0.04363533  0.04250851  0.04398126  0.03538542  0.02960345\n",
      "  0.04889171  0.02147029  0.05536853  0.05448924  0.04571517  0.05243579\n",
      "  0.05343678  0.01896557  0.05408729  0.04382088  0.05724055  0.03962236\n",
      "  0.04219192  0.02635177  0.02553588  0.02981901  0.06098903  0.04890727\n",
      "  0.0442526   0.02443356  0.02374093  0.05337121  0.04114382  0.04699888\n",
      "  0.05923504  0.06046055  0.05555119  0.03695264  0.02747023  0.05270358\n",
      "  0.03633616  0.03296204  0.03913496  0.0469296   0.05838965  0.03713626\n",
      "  0.05646226  0.05353313  0.04614304  0.04355091  0.02385467  0.05871722\n",
      "  0.03895826  0.02364688  0.02898655  0.05283217  0.05542461  0.0593842\n",
      "  0.0399277   0.05587545  0.04194914  0.0320657   0.03273263  0.03069217\n",
      "  0.05924863  0.04440911  0.05435624  0.05642896  0.03279967  0.0438404\n",
      "  0.04781989  0.02601547  0.0367013   0.02714742  0.04558286  0.06195815\n",
      "  0.05929682  0.05263941  0.04742574  0.04971254  0.0404437   0.03585395\n",
      "  0.05814724  0.05578317  0.04172103  0.02305733  0.05233857  0.04957672\n",
      "  0.01690071  0.04701624  0.05322124  0.04328312  0.04054318  0.05036887\n",
      "  0.06047752  0.05546763  0.04991559  0.02806982  0.03619608  0.04114547\n",
      "  0.02631793  0.02718531  0.04156112  0.03993622  0.03523065  0.05887332\n",
      "  0.03360155  0.05544831  0.04635895  0.03823344  0.04457845  0.03817826\n",
      "  0.04072657  0.0481931   0.02631006  0.04817778  0.05071853  0.03871291\n",
      "  0.01585161  0.06051594  0.04717868  0.05678845  0.02502161  0.01656677\n",
      "  0.04552928  0.05332503  0.06124263  0.03078986  0.06003696  0.0318777\n",
      "  0.03369842  0.0335032   0.04668195  0.04381996  0.04165186  0.04881314\n",
      "  0.0461832   0.03648087  0.05562104  0.02247813  0.03828487  0.04229328\n",
      "  0.05478986  0.05769389  0.04242501  0.04155824  0.06122619]\n"
     ]
    }
   ],
   "source": [
    "prediction = model1.predict(x_test)\n",
    "print(prediction)"
   ]
  },
  {
   "cell_type": "markdown",
   "metadata": {},
   "source": [
    "## 3c\n",
    "\n",
    "Преобразуйте получившийся вектор предсказаний `prediction` к значениям `{0,1}`. Это можно сделать, например, используя list comprehensions: https://docs.python.org/3/tutorial/datastructures.html#list-comprehensions \n",
    "\n",
    "`predictionClass = [1 if prediction[i] > 0.5 else 0 for i in range(prediction.shape[0])]`"
   ]
  },
  {
   "cell_type": "code",
   "execution_count": 8,
   "metadata": {},
   "outputs": [
    {
     "name": "stdout",
     "output_type": "stream",
     "text": [
      "[0, 0, 1, 1, 1, 0, 0, 0, 0, 1, 0, 0, 0, 1, 0, 0, 0, 0, 0, 0, 1, 1, 0, 1, 0, 0, 0, 0, 0, 0, 1, 1, 1, 0, 0, 1, 1, 1, 0, 0, 0, 0, 0, 0, 0, 1, 0, 1, 0, 0, 1, 0, 0, 1, 1, 0, 1, 1, 0, 1, 1, 0, 0, 0, 1, 0, 0, 0, 1, 0, 0, 1, 0, 1, 0, 0, 1, 0, 1, 0, 0, 1, 0, 0, 0, 0, 0, 0, 0, 0, 0, 0, 1, 1, 0, 0, 1, 1, 0, 0, 0, 0, 1, 0, 0, 0, 0, 1, 0, 0, 0, 1, 1, 0, 0, 1, 0, 1, 0, 0, 0, 0, 0, 1, 0, 0, 1, 0, 0, 0, 0, 0, 0, 0, 1, 0, 0, 0, 0, 0, 0, 0, 1, 1, 0, 1, 0, 0, 1, 0, 0, 0, 0, 0, 1, 0, 0, 0, 0, 0, 1, 1, 1, 0, 0, 0, 0, 0, 0, 0, 0, 0, 1, 0, 0, 0, 1, 1, 1, 0, 0, 0, 0, 0, 1, 0, 0, 0, 1, 1, 0, 0, 0, 1, 0, 0, 0, 0, 0, 0, 1, 0, 0, 0, 0, 1, 1, 0, 0, 0, 1, 1, 1, 0, 1, 0, 0, 0, 0, 1, 1, 1, 0, 0, 0, 0, 0, 0, 0, 0, 1, 0, 0, 0, 1, 0, 1, 1, 0, 1, 0, 0, 0, 0, 0, 0, 0, 0, 0, 0, 1, 0, 1, 0, 1, 0, 0, 1, 0, 0, 1, 0, 1, 0, 0, 1, 0, 0, 0, 0, 0, 0, 0, 1, 0, 0, 1, 0, 1, 0, 1, 1, 0, 0, 0, 1, 1, 0, 0, 1, 0, 0, 0, 1, 0, 0, 1, 1, 0, 0, 0, 0, 1, 0, 0, 0, 0, 1, 0, 1, 1, 0, 0, 1, 1, 0, 0, 0, 0, 0, 1, 0, 1, 1, 0, 0, 1, 0, 0, 1, 1, 0, 0, 0, 1, 0, 0, 1, 0, 1, 0, 0, 0, 0, 0, 0, 0, 1, 1, 0, 0, 0, 0, 0, 0, 0, 0, 0, 0, 0, 0, 0, 1, 0, 0, 0, 1, 0, 0, 1, 1, 0, 0, 0, 0, 1, 0, 0, 0, 0, 0, 0, 0, 1, 0, 0, 0, 0, 0, 0, 0, 0, 0, 0, 1, 0, 0, 0, 0, 0, 0, 0, 0, 0, 1, 0, 1, 1, 0, 0, 1, 0, 0, 0, 0, 0, 0, 0, 0, 0, 0, 0, 1, 0, 1, 0, 0, 0, 1, 0, 0, 0, 0, 0, 1, 0, 1, 0, 0, 0, 0, 1, 1, 0, 1, 0, 0, 0, 0, 0, 0, 0, 0, 0, 0, 0, 0, 0, 0, 1, 0, 1, 0, 0, 0, 1, 0, 0, 0, 0, 1, 0, 0, 1, 0, 0, 0, 0, 0, 0, 1, 0, 1, 1, 0, 0, 0, 1, 1, 1, 0, 0, 0, 0, 0, 0, 0, 0, 1, 1, 0, 0, 0, 1, 0, 1, 1, 0, 0, 1, 0, 0, 0, 0, 0, 0, 1, 0, 1, 0, 0, 1, 1, 0, 0, 1, 0, 0, 1, 0, 0, 1, 0, 1, 0, 0, 0, 1, 0, 0, 1, 1, 0, 0, 0, 1, 0, 0, 0, 0, 0, 1, 0, 1, 1, 0, 1, 0, 0, 0, 0, 0, 1, 0, 0, 0, 0, 0, 0, 1, 0, 1, 0, 1, 0, 0, 0, 0, 0, 1, 1, 1, 0, 0, 0, 0, 0, 0, 0, 0, 0, 1, 1, 1, 0, 0, 0, 0, 0, 0, 1, 0, 1, 0, 1, 0, 1, 0, 0, 0, 0, 0, 1, 0, 0, 0, 0, 0, 0, 0, 0, 0, 0, 0, 0, 0, 0, 0, 1, 0, 1, 0, 0, 1, 1, 0, 0, 0, 0, 0, 0, 0, 0, 1, 1, 1, 0, 0, 1, 0, 0, 0, 0, 0, 0, 0, 0, 1, 0, 1, 0, 1, 1, 0, 0, 1, 0, 0, 1, 1, 0, 0, 0, 1, 0, 0, 0, 0, 0, 0, 1, 0, 1, 0, 0, 0, 0, 0, 0, 0, 0, 1, 1, 1, 0, 0, 0, 0, 0, 0, 0, 0, 0, 0, 1, 0, 0, 0, 1, 0, 0, 0, 0, 1, 1, 1, 0, 1, 0, 0, 0, 0, 0, 0, 0, 1, 1, 0, 1, 1, 0, 1, 0, 0, 0, 1, 1, 0, 0, 0, 0, 0, 0, 0, 0, 0, 0, 0, 0, 0, 0, 0, 0, 0, 0, 1, 1, 0, 0, 1, 0, 0, 0, 1, 0, 0, 1, 0, 1, 0, 0, 0, 1, 0, 0, 0, 0, 0, 0, 1, 0, 1, 1, 0, 0, 1, 0, 0, 1, 0, 0, 0, 0, 0, 1, 0, 0, 1, 1, 0, 1, 1, 0, 1, 1, 0, 0, 0, 0, 0, 0, 0, 1, 0, 0, 1, 0, 0, 0, 0, 0, 0, 0, 0, 0, 0, 1, 1, 0, 1, 0, 0, 1, 1, 0, 0, 1, 0, 1, 0, 1, 0, 0, 0, 0, 0, 0, 0, 1, 1, 0, 1, 1, 0, 1, 0, 1, 0, 0, 0, 0, 0, 1, 0, 0, 0, 0, 1, 0, 0, 1, 1, 1, 0, 0, 1, 0, 0, 0, 0, 1, 0, 1, 1, 0, 0, 0, 1, 0, 0, 0, 1, 1, 1, 0, 1, 0, 0, 0, 0, 1, 0, 1, 1, 0, 0, 0, 0, 0, 0, 0, 1, 1, 1, 0, 0, 0, 0, 1, 1, 0, 0, 1, 0, 0, 0, 1, 0, 0, 1, 1, 1, 0, 0, 0, 0, 0, 0, 0, 0, 0, 1, 0, 1, 0, 0, 0, 0, 0, 0, 0, 0, 1, 0, 0, 1, 0, 1, 0, 0, 0, 1, 1, 0, 1, 0, 0, 0, 0, 0, 0, 0, 0, 0, 1, 0, 0, 0, 1, 1, 0, 0, 1]\n"
     ]
    }
   ],
   "source": [
    "predictionClass = [1 if prediction[i] > 0.05 else 0 for i in range(prediction.shape[0])]\n",
    "print(predictionClass)"
   ]
  },
  {
   "cell_type": "markdown",
   "metadata": {},
   "source": [
    "## 3d\n",
    "\n",
    "Постройте отчет по качеству классификации и матрицу ошибок. Как изменятся отчет и матрица ошибок, если изменить порог в задании 3c (по умолчанию его значение равно 0.5)?\n",
    "\n",
    "*Функции, которые могут пригодиться при решении: `print(metrics.classification_report(...))`, `print(metrics.confusion_matrix(...))`*\n",
    "\n",
    "Функция classification_report для каждого класса объектов считает точность (precision) в этом классе и полноту (recall). Полнота - это процент объектов данного класса, которые ваш метод предсказания тоже отнес к этому классу, среди всех объектов данного класса. Точность (precision) - то же самое, только среди всех объектов, предсказанных для этого класса.\n",
    "\n",
    "Функция confusion_matrix возвращает матрицу с количествами объектов. Номера столбцов матрицы - это номера предсказанных классов, строки - это номера правильных классов. Например, элемент M[0,1] - это количество машин, где на самом деле IsBadBuy = 0, а вы предсказали 1."
   ]
  },
  {
   "cell_type": "code",
   "execution_count": 9,
   "metadata": {},
   "outputs": [
    {
     "name": "stdout",
     "output_type": "stream",
     "text": [
      "              precision    recall  f1-score   support\n",
      "\n",
      "           0       0.98      0.72      0.83       955\n",
      "           1       0.05      0.50      0.09        28\n",
      "\n",
      "    accuracy                           0.71       983\n",
      "   macro avg       0.51      0.61      0.46       983\n",
      "weighted avg       0.95      0.71      0.81       983\n",
      "\n",
      "[[685 270]\n",
      " [ 14  14]]\n"
     ]
    }
   ],
   "source": [
    "print(metrics.classification_report(y_test.to_numpy(), predictionClass))\n",
    "print(metrics.confusion_matrix(y_test.to_numpy(), predictionClass))"
   ]
  },
  {
   "cell_type": "markdown",
   "metadata": {},
   "source": [
    "# Классификация\n",
    "\n",
    "## 4a\n",
    "Трактуя задачу как задачу классификации, постройте модель классификации «решающее дерево» глубины 20  (все аналогично линейной регрессии).\n",
    "\n",
    "\n",
    "*Функции, которые могут пригодиться при решении: `tree.DecisionTreeClassifier(max_depth=20) `*"
   ]
  },
  {
   "cell_type": "code",
   "execution_count": 10,
   "metadata": {},
   "outputs": [
    {
     "data": {
      "text/plain": [
       "DecisionTreeClassifier(max_depth=20)"
      ]
     },
     "execution_count": 10,
     "metadata": {},
     "output_type": "execute_result"
    }
   ],
   "source": [
    "model = tree.DecisionTreeClassifier(max_depth=20)\n",
    "model.fit(x_train, y_train)"
   ]
  },
  {
   "cell_type": "markdown",
   "metadata": {},
   "source": [
    "## 4b\n",
    "\n",
    "Решающее дерево предсказывает вероятности. С помощью построенной модели рассчитайте вероятности наличия скрываемых недостатков.\n",
    "\n",
    "*Функции, которые могут пригодиться при решении: `model.predict_proba() `*"
   ]
  },
  {
   "cell_type": "code",
   "execution_count": 11,
   "metadata": {},
   "outputs": [],
   "source": [
    "prediction = model.predict_proba(x_test)"
   ]
  },
  {
   "cell_type": "markdown",
   "metadata": {},
   "source": [
    "## 4c\n",
    "\n",
    "Преобразуйте получившийся вектор предсказаний `prediction` к значениям `{0,1}`. Постройте отчет о классификации и матрицу ошибок. Какой метод оказался лучше?"
   ]
  },
  {
   "cell_type": "code",
   "execution_count": 12,
   "metadata": {},
   "outputs": [
    {
     "name": "stdout",
     "output_type": "stream",
     "text": [
      "[0, 0, 0, 0, 0, 0, 0, 0, 0, 0, 0, 0, 0, 0, 0, 0, 0, 0, 0, 0, 0, 0, 0, 0, 0, 0, 0, 0, 0, 0, 0, 1, 0, 0, 0, 0, 0, 0, 0, 0, 0, 0, 0, 0, 0, 1, 0, 0, 0, 0, 0, 0, 0, 0, 0, 0, 0, 0, 0, 0, 0, 0, 0, 0, 0, 0, 0, 0, 0, 0, 0, 0, 1, 0, 0, 0, 0, 0, 0, 0, 0, 0, 0, 0, 0, 0, 0, 0, 0, 0, 0, 0, 0, 1, 0, 0, 0, 0, 0, 0, 0, 0, 0, 0, 0, 0, 0, 0, 0, 0, 0, 0, 0, 0, 0, 0, 0, 0, 0, 0, 0, 0, 0, 0, 0, 0, 0, 0, 0, 0, 0, 0, 0, 0, 0, 0, 0, 0, 0, 0, 0, 0, 0, 0, 0, 0, 0, 0, 0, 0, 0, 0, 0, 0, 0, 0, 0, 0, 0, 0, 0, 0, 0, 0, 0, 0, 0, 0, 0, 0, 0, 0, 0, 0, 0, 0, 0, 0, 0, 0, 0, 0, 0, 0, 0, 0, 0, 0, 0, 0, 0, 0, 0, 0, 0, 0, 0, 0, 0, 0, 0, 0, 0, 0, 0, 0, 0, 0, 0, 0, 0, 1, 0, 0, 0, 0, 0, 0, 0, 0, 0, 0, 0, 0, 0, 0, 0, 0, 0, 0, 0, 0, 0, 0, 0, 0, 0, 0, 0, 0, 0, 0, 0, 0, 0, 0, 0, 0, 0, 0, 0, 0, 0, 0, 0, 0, 0, 0, 0, 0, 0, 0, 0, 0, 0, 0, 0, 0, 0, 0, 0, 0, 0, 0, 0, 0, 0, 0, 0, 0, 0, 0, 0, 0, 0, 0, 0, 0, 0, 0, 0, 0, 0, 0, 0, 0, 0, 1, 0, 0, 0, 0, 0, 0, 0, 0, 0, 0, 0, 0, 0, 0, 0, 0, 0, 0, 0, 0, 0, 0, 0, 0, 0, 0, 0, 0, 0, 0, 0, 0, 0, 0, 0, 0, 0, 0, 0, 0, 0, 0, 0, 0, 0, 0, 0, 1, 0, 0, 0, 0, 0, 0, 0, 0, 0, 0, 0, 0, 0, 0, 0, 0, 0, 0, 0, 0, 0, 0, 0, 0, 0, 0, 0, 1, 0, 0, 0, 0, 0, 0, 0, 0, 0, 0, 0, 0, 0, 0, 0, 0, 0, 0, 0, 0, 0, 0, 0, 0, 0, 0, 1, 0, 0, 0, 0, 0, 0, 0, 0, 1, 0, 0, 0, 0, 0, 0, 0, 0, 0, 0, 0, 0, 0, 1, 0, 0, 0, 0, 0, 0, 0, 0, 0, 0, 0, 0, 1, 0, 0, 0, 0, 0, 0, 0, 0, 0, 0, 0, 0, 0, 0, 0, 0, 0, 0, 0, 0, 0, 0, 0, 0, 0, 0, 0, 0, 0, 0, 0, 0, 0, 0, 0, 1, 0, 0, 0, 0, 0, 0, 0, 0, 0, 0, 0, 0, 0, 0, 0, 0, 0, 0, 0, 0, 0, 0, 0, 0, 0, 0, 0, 0, 0, 0, 0, 0, 0, 1, 0, 0, 0, 0, 0, 0, 0, 0, 0, 0, 0, 0, 0, 0, 0, 0, 0, 0, 0, 0, 0, 0, 0, 0, 0, 0, 0, 0, 0, 0, 0, 0, 0, 0, 0, 0, 0, 0, 0, 0, 0, 0, 0, 0, 0, 0, 0, 0, 0, 1, 0, 0, 0, 0, 0, 1, 0, 0, 0, 0, 0, 0, 0, 0, 1, 0, 0, 0, 0, 0, 0, 0, 0, 0, 0, 0, 0, 0, 0, 0, 0, 0, 0, 0, 0, 0, 0, 0, 0, 0, 0, 0, 0, 0, 0, 0, 0, 0, 0, 0, 0, 0, 0, 0, 0, 0, 0, 0, 0, 0, 0, 0, 0, 0, 0, 0, 0, 0, 0, 0, 0, 0, 0, 1, 0, 0, 0, 0, 0, 0, 0, 0, 1, 0, 0, 0, 0, 0, 0, 0, 0, 0, 0, 0, 0, 0, 0, 0, 0, 0, 0, 0, 0, 0, 0, 0, 0, 0, 0, 0, 0, 1, 0, 0, 0, 0, 0, 0, 0, 0, 0, 0, 0, 0, 0, 0, 0, 0, 1, 0, 0, 0, 0, 0, 0, 0, 0, 0, 0, 0, 0, 1, 0, 0, 0, 0, 0, 0, 0, 0, 0, 0, 0, 0, 0, 1, 0, 0, 0, 0, 0, 0, 0, 0, 0, 0, 0, 0, 0, 0, 1, 0, 0, 0, 0, 0, 0, 0, 0, 0, 0, 0, 0, 0, 0, 0, 0, 0, 0, 0, 0, 0, 0, 0, 0, 0, 0, 0, 0, 0, 1, 0, 0, 0, 0, 0, 0, 0, 0, 0, 0, 0, 0, 0, 0, 0, 0, 0, 0, 0, 0, 0, 0, 0, 0, 0, 0, 0, 0, 0, 0, 0, 0, 0, 0, 0, 0, 0, 0, 0, 0, 0, 0, 0, 0, 0, 0, 0, 0, 0, 0, 0, 0, 0, 0, 0, 0, 0, 0, 0, 0, 0, 0, 0, 1, 0, 0, 0, 0, 0, 0, 0, 0, 0, 0, 0, 0, 0, 0, 1, 0, 0, 1, 0, 0, 0, 0, 0, 0, 0, 0, 0, 0, 0, 0, 0, 0, 0, 0, 0, 0, 0, 0, 0, 0, 0, 0, 0, 0, 0, 0, 0, 0, 0, 0, 0, 0, 0, 0, 0, 0, 0, 0, 0, 0, 0, 0, 0, 0, 0, 0, 1, 0, 0, 0, 0, 0, 0, 1, 0, 0, 0, 0, 0, 0, 0, 0, 0, 0, 0, 0, 0, 0, 0, 0, 0, 0, 0, 0, 1, 0, 0, 0, 0, 0, 0, 1, 0, 0, 0, 0, 0, 0, 0, 1, 0, 0, 0, 0, 0, 0, 1, 0, 0, 0, 0, 0, 0, 0, 0, 0, 0, 0, 0, 0, 0, 0, 0, 0, 0, 0, 0, 0, 0, 0, 0, 0, 0, 0, 0, 0, 0, 0, 0, 0, 0, 0, 0, 0, 0, 0, 0, 0, 1, 0, 0]\n"
     ]
    }
   ],
   "source": [
    "predictionClass = [1 if prediction[i][0] == 0 else 0 for i in range(prediction.shape[0])]\n",
    "print(predictionClass)"
   ]
  },
  {
   "cell_type": "code",
   "execution_count": 13,
   "metadata": {},
   "outputs": [
    {
     "name": "stdout",
     "output_type": "stream",
     "text": [
      "              precision    recall  f1-score   support\n",
      "\n",
      "           0       0.97      0.97      0.97       955\n",
      "           1       0.09      0.11      0.10        28\n",
      "\n",
      "    accuracy                           0.94       983\n",
      "   macro avg       0.53      0.54      0.53       983\n",
      "weighted avg       0.95      0.94      0.95       983\n",
      "\n",
      "[[923  32]\n",
      " [ 25   3]]\n"
     ]
    }
   ],
   "source": [
    "print(metrics.classification_report(y_test.to_numpy(), predictionClass))\n",
    "print(metrics.confusion_matrix(y_test.to_numpy(), predictionClass))"
   ]
  },
  {
   "cell_type": "markdown",
   "metadata": {},
   "source": [
    "# Кросс-валидация\n",
    "## 5a\n",
    "\n",
    "\n",
    "Разделите исходную выборку на две части, например, используя [slices](https://pythonz.net/references/named/slice/):\n",
    "\n",
    "`dataTrain = data.loc[0:34999,]\n",
    "dataTest = data.loc[35000:69999,]`"
   ]
  },
  {
   "cell_type": "code",
   "execution_count": 14,
   "metadata": {},
   "outputs": [],
   "source": [
    "dataTrain = df.loc[0:34999,]\n",
    "dataTest = df.loc[35000:69999,]\n",
    "x_train = dataTrain[['VehOdo', 'MMRCurrentRetailAveragePrice']]\n",
    "y_train = dataTrain['IsBadBuy']\n",
    "x_test = dataTest[['VehOdo', 'MMRCurrentRetailAveragePrice']]\n",
    "y_test = dataTest['IsBadBuy']"
   ]
  },
  {
   "cell_type": "markdown",
   "metadata": {},
   "source": [
    "## 5b\n",
    "\n",
    "Натренируйте решающее дерево на  `dataTrain` и примените к  `dataTrain` и dataTest, вычислив для каждого случая точность предсказания. \n",
    "\n",
    "Проведите несколько экспериментов для различных глубин дерева. Напишите в комментариях, для каких глубин модель недообучена, для каких переобучена и где точка раннего останова.\n",
    "\n",
    "*Функции, которые могут пригодиться при решении: `metrics.accuracy_score() `*"
   ]
  },
  {
   "cell_type": "code",
   "execution_count": 15,
   "metadata": {},
   "outputs": [],
   "source": [
    "depth = 10\n",
    "model2 = tree.DecisionTreeClassifier(max_depth=depth)"
   ]
  },
  {
   "cell_type": "code",
   "execution_count": 16,
   "metadata": {},
   "outputs": [
    {
     "name": "stdout",
     "output_type": "stream",
     "text": [
      "0.9445557782231129\n"
     ]
    }
   ],
   "source": [
    "model2.fit(x_train, y_train)\n",
    "prediction = model2.predict(x_test)\n",
    "predictionClass = [1 if prediction[i] > 0.05 else 0 for i in range(prediction.shape[0])]\n",
    "print(metrics.accuracy_score(y_test.to_numpy(), predictionClass))"
   ]
  },
  {
   "cell_type": "code",
   "execution_count": 17,
   "metadata": {},
   "outputs": [
    {
     "name": "stdout",
     "output_type": "stream",
     "text": [
      "0.9861695730607336\n"
     ]
    }
   ],
   "source": [
    "prediction = model2.predict(x_train)\n",
    "predictionClass = [1 if prediction[i] > 0.05 else 0 for i in range(prediction.shape[0])]\n",
    "print(metrics.accuracy_score(y_train.to_numpy(), predictionClass))"
   ]
  },
  {
   "cell_type": "markdown",
   "metadata": {},
   "source": [
    "Точность предсказания зависит от глубины: чем больше глубина, тем хуже предсказание на тестовых данных, но выше на тренировочных. Если поставить глубину слишком высокую (~20), мы встретимся с переобучением: точность на тренировочных данных будет равна 1.0, что плохо сказывается на тестовых данных. Если поставить глубину слишком низкую (~5), точность будет одинаково плоха на обоих типах данных. Поэтому оптимальным вариантом будет выбрать глубину, равную 10."
   ]
  },
  {
   "cell_type": "markdown",
   "metadata": {},
   "source": [
    "# Решающая функция\n",
    "## 6a\n",
    "\n",
    "Вернемся к модели решающего дерева глубины 20, построенного по всей обучающей выборке `data`. Пусть цена ошибки неправильного предсказания 0 равна 1000, а неправильного предсказания 1 — 100.\n",
    "\n",
    "Вычислите функцию потерь &mdash; среднюю ошибку на всей обучающей выборке."
   ]
  },
  {
   "cell_type": "code",
   "execution_count": 18,
   "metadata": {},
   "outputs": [
    {
     "name": "stdout",
     "output_type": "stream",
     "text": [
      "2.1433315820899996\n"
     ]
    }
   ],
   "source": [
    "x_train, x_test, y_train, y_test = train_test_split(x, y, test_size=0.3, random_state=420)\n",
    "model = tree.DecisionTreeClassifier(max_depth=20, class_weight={0:1000,1:100})\n",
    "model.fit(x_train, y_train)\n",
    "prediction = model.predict(x_test)\n",
    "predictionClass = [1 if prediction[i] > 0.05 else 0 for i in range(prediction.shape[0])]\n",
    "print(metrics.log_loss(y_test.to_numpy(), predictionClass))"
   ]
  },
  {
   "cell_type": "markdown",
   "metadata": {},
   "source": [
    "## 6b\n",
    "\n",
    "Выясните, как нужно изменить решающую функцию `[0 if predictionProb[i][0] > 0.5 else 1 for i in range(prediction.shape[0])]`, чтобы функция потерь была минимальна?\n",
    "\n",
    "Найдите оптимальную решающую функцию и минимальное значение функционала потерь методом подбора или пользуясь формулой из лекции 2 (слайд Decision function).\n",
    "\n"
   ]
  },
  {
   "cell_type": "code",
   "execution_count": 19,
   "metadata": {},
   "outputs": [
    {
     "name": "stdout",
     "output_type": "stream",
     "text": [
      "2.178468485439278\n"
     ]
    }
   ],
   "source": [
    "x_train, x_test, y_train, y_test = train_test_split(x, y, test_size=0.3, random_state=420)\n",
    "model = tree.DecisionTreeClassifier(max_depth=20, class_weight={0:1000,1:100})\n",
    "model.fit(x_train, y_train)\n",
    "prediction = model.predict(x_test)\n",
    "predictionClass = [1 if prediction[i] > 0.7 else 0 for i in range(prediction.shape[0])]\n",
    "print(metrics.log_loss(y_test.to_numpy(), predictionClass))"
   ]
  },
  {
   "cell_type": "code",
   "execution_count": 20,
   "metadata": {},
   "outputs": [],
   "source": [
    "x = df[['VehOdo', 'MMRCurrentRetailAveragePrice', 'MMRAcquisitionAuctionAveragePrice', 'VehicleAge']]\n",
    "x_train, x_test, y_train, y_test = train_test_split(x, y, test_size=0.3, random_state=420)"
   ]
  },
  {
   "cell_type": "code",
   "execution_count": 22,
   "metadata": {},
   "outputs": [
    {
     "name": "stdout",
     "output_type": "stream",
     "text": [
      "0.9838105178611393\n"
     ]
    }
   ],
   "source": [
    "svc_model = svm.SVC(C=1.0, kernel='poly', degree=3)\n",
    "svc_model.fit(x_train, y_train)\n",
    "prediction = svc_model.predict(x_test)\n",
    "predictionClass = [1 if prediction[i] > 0.7 else 0 for i in range(prediction.shape[0])]\n",
    "print(metrics.log_loss(y_test.to_numpy(), predictionClass))"
   ]
  },
  {
   "cell_type": "code",
   "execution_count": null,
   "metadata": {},
   "outputs": [],
   "source": []
  }
 ],
 "metadata": {
  "kernelspec": {
   "display_name": "Python 3",
   "language": "python",
   "name": "python3"
  },
  "language_info": {
   "codemirror_mode": {
    "name": "ipython",
    "version": 3
   },
   "file_extension": ".py",
   "mimetype": "text/x-python",
   "name": "python",
   "nbconvert_exporter": "python",
   "pygments_lexer": "ipython3",
   "version": "3.8.3"
  }
 },
 "nbformat": 4,
 "nbformat_minor": 2
}
